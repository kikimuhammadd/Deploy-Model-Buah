{
 "cells": [
  {
   "cell_type": "code",
   "execution_count": null,
   "metadata": {
    "colab": {
     "base_uri": "https://localhost:8080/"
    },
    "id": "N3AnbQVxs9nE",
    "outputId": "a0772074-abd3-4e29-aa4b-e00d86b226f4"
   },
   "outputs": [
    {
     "ename": "NameError",
     "evalue": "name 'drive' is not defined",
     "output_type": "error",
     "traceback": [
      "\u001b[1;31m---------------------------------------------------------------------------\u001b[0m",
      "\u001b[1;31mNameError\u001b[0m                                 Traceback (most recent call last)",
      "Cell \u001b[1;32mIn[3], line 12\u001b[0m\n\u001b[0;32m      9\u001b[0m \u001b[38;5;66;03m# from google.colab import drive\u001b[39;00m\n\u001b[0;32m     10\u001b[0m \u001b[38;5;66;03m# from google.colab import files\u001b[39;00m\n\u001b[0;32m     11\u001b[0m \u001b[38;5;28;01mfrom\u001b[39;00m \u001b[38;5;21;01mkeras\u001b[39;00m\u001b[38;5;21;01m.\u001b[39;00m\u001b[38;5;21;01mpreprocessing\u001b[39;00m \u001b[38;5;28;01mimport\u001b[39;00m image\n\u001b[1;32m---> 12\u001b[0m \u001b[43mdrive\u001b[49m\u001b[38;5;241m.\u001b[39mmount(\u001b[38;5;124m'\u001b[39m\u001b[38;5;124m/content/drive\u001b[39m\u001b[38;5;124m'\u001b[39m)\n\u001b[0;32m     13\u001b[0m \u001b[38;5;28;01mfrom\u001b[39;00m \u001b[38;5;21;01mtensorflow\u001b[39;00m\u001b[38;5;21;01m.\u001b[39;00m\u001b[38;5;21;01mkeras\u001b[39;00m\u001b[38;5;21;01m.\u001b[39;00m\u001b[38;5;21;01mpreprocessing\u001b[39;00m\u001b[38;5;21;01m.\u001b[39;00m\u001b[38;5;21;01mimage\u001b[39;00m \u001b[38;5;28;01mimport\u001b[39;00m ImageDataGenerator,load_img,img_to_array\n",
      "\u001b[1;31mNameError\u001b[0m: name 'drive' is not defined"
     ]
    }
   ],
   "source": [
    "import os\n",
    "import tensorflow as tf\n",
    "import matplotlib.pyplot as plt\n",
    "import numpy as np\n",
    "import matplotlib.image as mpimg\n",
    "import random\n",
    "from tensorflow.keras import layers\n",
    "from tensorflow import keras\n",
    "from google.colab import drive\n",
    "from google.colab import files\n",
    "from keras.preprocessing import image\n",
    "drive.mount('/content/drive')\n",
    "from tensorflow.keras.preprocessing.image import ImageDataGenerator,load_img,img_to_array"
   ]
  },
  {
   "cell_type": "code",
   "execution_count": null,
   "metadata": {
    "id": "zzjyAkVqtE8T"
   },
   "outputs": [],
   "source": [
    "base_dir= '/content/drive/MyDrive/Bangkit_Fruits'\n",
    "train_dir = os.path.join(base_dir, 'train')\n",
    "validation_dir = os.path.join(base_dir, 'validation')"
   ]
  },
  {
   "cell_type": "code",
   "execution_count": null,
   "metadata": {
    "colab": {
     "base_uri": "https://localhost:8080/"
    },
    "id": "ozx2RWzmtR2l",
    "outputId": "a8ba361c-3d07-4ddf-a877-78e88c904347"
   },
   "outputs": [],
   "source": [
    "# Mempersiapkan train_dataset\n",
    "train_dataset = tf.keras.utils.image_dataset_from_directory(\n",
    "    train_dir,\n",
    "    image_size=(150, 150),\n",
    "    batch_size=32,\n",
    "    label_mode='categorical',\n",
    "    seed= 314\n",
    "    )\n",
    "\n",
    "# Mempersiapkan validation_dataset\n",
    "validation_dataset = tf.keras.utils.image_dataset_from_directory(\n",
    "    validation_dir,\n",
    "    image_size=(150, 150),\n",
    "    batch_size=32,\n",
    "    label_mode='categorical',\n",
    "    seed= 314\n",
    "    )"
   ]
  },
  {
   "cell_type": "code",
   "execution_count": null,
   "metadata": {
    "id": "X6N2OSmFvVNm"
   },
   "outputs": [],
   "source": [
    "class_names = [\"Apel\",\"Anggur\",\"Buah Naga\",\"Ceri\", \"Durian\", \"Jambu Biji\",\"Jeruk\", \"Kiwi\", \"Lemon\", \"Mangga\", \"Nanas\", \"Pir\",\"Pisang\", \"Semangka\", \"Stroberi\" ]"
   ]
  },
  {
   "cell_type": "code",
   "execution_count": null,
   "metadata": {
    "colab": {
     "base_uri": "https://localhost:8080/",
     "height": 306
    },
    "id": "34wE7yeKtWSj",
    "outputId": "c65b1ace-25b0-4717-91c3-c87f6503f12f"
   },
   "outputs": [],
   "source": [
    "def random_class_visualization(class_names, directory):\n",
    "    \"\"\"Visualizes random images from specified classes.\n",
    "\n",
    "    Args:\n",
    "        class_names: List of class names (subdirectory names in `directory`).\n",
    "        directory: Path to the directory containing class subdirectories.\n",
    "\n",
    "    This function randomly selects images from the given class directories and\n",
    "    displays them in a 2x5 grid with their class names as titles.\n",
    "    \"\"\"\n",
    "    plt.figure(figsize=(10, 3))\n",
    "    for i in range(10):\n",
    "        random_class = random.choice(class_names)\n",
    "        class_path = os.path.join(directory, random_class)\n",
    "        images = os.listdir(class_path)\n",
    "        random_image = images[random.randint(0, len(images) - 1)]\n",
    "        image_path = os.path.join(class_path, random_image)\n",
    "\n",
    "        plt.subplot(2, 5, i+1)\n",
    "        img = mpimg.imread(image_path)\n",
    "        plt.imshow(img)\n",
    "        plt.title(random_class)\n",
    "        plt.axis('off')\n",
    "\n",
    "    plt.tight_layout()\n",
    "    plt.show()\n",
    "\n",
    "random_class_visualization(class_names, validation_dir)"
   ]
  },
  {
   "cell_type": "code",
   "execution_count": null,
   "metadata": {
    "colab": {
     "base_uri": "https://localhost:8080/"
    },
    "id": "bixccFjftoBz",
    "outputId": "308e1f67-261a-40b9-bfa0-5207994715ce"
   },
   "outputs": [],
   "source": [
    "# Check Shape per batch\n",
    "for images, labels in train_dataset.take(1):  # Iterate through the first batch in the training dataset\n",
    "    print('Batch Image Shape:', images.shape)\n",
    "    print('Batch Labels Shape:', labels.shape)\n",
    "    break"
   ]
  },
  {
   "cell_type": "code",
   "execution_count": null,
   "metadata": {
    "id": "pQyKWguvuQJk"
   },
   "outputs": [],
   "source": [
    "rescale_layer = tf.keras.Sequential([\n",
    "    keras.layers.Rescaling(1./255)\n",
    "])\n",
    "\n",
    "augmentation_layer = tf.keras.Sequential([\n",
    "    keras.layers.RandomFlip(\"horizontal\"),\n",
    "    keras.layers.RandomRotation(\n",
    "        (-0.2, 0.2),\n",
    "        fill_mode='reflect',\n",
    "        interpolation='bilinear'\n",
    "    ),\n",
    "    keras.layers.RandomTranslation(\n",
    "        (-0.15, 0.15),\n",
    "        (-0.15, 0.15),\n",
    "        fill_mode='reflect',\n",
    "        interpolation='bilinear'\n",
    "    ),\n",
    "])\n",
    "\n",
    "def preprocess_dataset(dataset, augment=False):\n",
    "    # Rescale all datasets\n",
    "    dataset = dataset.map(lambda x, y: (rescale_layer(x), y))\n",
    "\n",
    "    # Data augmentation only on the training set.\n",
    "    if augment:\n",
    "        dataset = dataset.map(lambda x, y: (augmentation_layer(x, training=True), y))\n",
    "\n",
    "    return dataset\n",
    "\n",
    "train_ds = preprocess_dataset(train_dataset, augment=True)\n",
    "val_ds = preprocess_dataset(validation_dataset)"
   ]
  },
  {
   "cell_type": "code",
   "execution_count": null,
   "metadata": {
    "id": "vwbAA0v1tv57"
   },
   "outputs": [],
   "source": [
    "# Inisialisasi base model yang akan kita gunakan\n",
    "input_shape = (150, 150, 3)\n",
    "base_model = tf.keras.applications.efficientnet_v2.EfficientNetV2S(\n",
    "    include_top=False,\n",
    "    weights='imagenet',\n",
    "    input_shape=input_shape,\n",
    "    include_preprocessing=False\n",
    ")\n",
    "base_model.trainable = False"
   ]
  },
  {
   "cell_type": "code",
   "execution_count": null,
   "metadata": {
    "colab": {
     "base_uri": "https://localhost:8080/",
     "height": 407
    },
    "id": "SSkt-IR9t1zL",
    "outputId": "c056095a-b563-4c18-b4f7-dd28495cda3b"
   },
   "outputs": [],
   "source": [
    "# Functional API for Keras Model Building\n",
    "inputs = tf.keras.Input(shape=input_shape)\n",
    "x = base_model(inputs, training=False)\n",
    "x = layers.GlobalAveragePooling2D()(x)\n",
    "x = layers.Dense(640, activation='relu')(x)\n",
    "x = layers.Dropout(0.6)(x)\n",
    "x = layers.Dense(320, activation='relu')(x)\n",
    "x = layers.Dropout(0.2)(x)\n",
    "outputs = layers.Dense(15, activation='softmax')(x)\n",
    "\n",
    "# Create the final model using Functional API\n",
    "model = tf.keras.Model(inputs, outputs)\n",
    "\n",
    "# Display the summary of the final model\n",
    "model.summary()"
   ]
  },
  {
   "cell_type": "code",
   "execution_count": null,
   "metadata": {
    "id": "IDxfPXJFugh2"
   },
   "outputs": [],
   "source": [
    "# Mengatur parameter pelatihan\n",
    "learning_rate = 1e-4\n",
    "optimizer = tf.keras.optimizers.Adam(learning_rate= learning_rate)\n",
    "model.compile(\n",
    "    optimizer= optimizer,\n",
    "    loss='categorical_crossentropy',\n",
    "    metrics=['accuracy']\n",
    "    )"
   ]
  },
  {
   "cell_type": "code",
   "execution_count": null,
   "metadata": {
    "id": "BaVR1dpNwAF5"
   },
   "outputs": [],
   "source": [
    "class EarlyStoppingCallback(tf.keras.callbacks.Callback):\n",
    "    def on_epoch_end(self, epoch, logs=None):\n",
    "        if logs['accuracy']>0.85:\n",
    "            self.model.stop_training = True\n",
    "            print(\"\\nReached 95% accuracy so cancelling training!\")\n",
    "callback = EarlyStoppingCallback()"
   ]
  },
  {
   "cell_type": "code",
   "execution_count": null,
   "metadata": {
    "colab": {
     "base_uri": "https://localhost:8080/"
    },
    "id": "lIGt0uHKujB8",
    "outputId": "65ce2b02-7e95-4f83-f659-2f6ff739b0b6"
   },
   "outputs": [],
   "source": [
    "EPOCHS = 20\n",
    "\n",
    "# Pelatihan Model\n",
    "history = model.fit(\n",
    "    train_ds,\n",
    "    validation_data = val_ds,\n",
    "    epochs = EPOCHS,\n",
    "    verbose = 1,\n",
    "    callbacks=[callback]\n",
    "    )"
   ]
  },
  {
   "cell_type": "code",
   "execution_count": null,
   "metadata": {
    "id": "EWF2Lmke6nN3"
   },
   "outputs": [],
   "source": []
  },
  {
   "cell_type": "code",
   "execution_count": null,
   "metadata": {
    "colab": {
     "base_uri": "https://localhost:8080/",
     "height": 564
    },
    "id": "CfTPEovJuwiV",
    "outputId": "b9ec46a7-3494-4f2e-fb91-4a5b9a20ab15"
   },
   "outputs": [],
   "source": [
    "def plot_loss_acc(history):\n",
    "    '''Plots the training and validation loss and accuracy from a history object'''\n",
    "    acc = history.history['accuracy']\n",
    "    val_acc = history.history['val_accuracy']\n",
    "    loss = history.history['loss']\n",
    "    val_loss = history.history['val_loss']\n",
    "\n",
    "    epochs = range(len(acc))\n",
    "\n",
    "    fig, ax = plt.subplots(1,2, figsize=(12, 6))\n",
    "    ax[0].plot(epochs, acc, 'bo', label='Training accuracy')\n",
    "    ax[0].plot(epochs, val_acc, 'b', label='Validation accuracy')\n",
    "    ax[0].set_title('Training and validation accuracy')\n",
    "    ax[0].set_xlabel('epochs')\n",
    "    ax[0].set_ylabel('accuracy')\n",
    "    ax[0].legend()\n",
    "\n",
    "    ax[1].plot(epochs, loss, 'bo', label='Training Loss')\n",
    "    ax[1].plot(epochs, val_loss, 'b', label='Validation Loss')\n",
    "    ax[1].set_title('Training and validation loss')\n",
    "    ax[1].set_xlabel('epochs')\n",
    "    ax[1].set_ylabel('loss')\n",
    "    ax[1].legend()\n",
    "\n",
    "    plt.show()\n",
    "\n",
    "plot_loss_acc(history)"
   ]
  },
  {
   "cell_type": "code",
   "execution_count": null,
   "metadata": {
    "colab": {
     "base_uri": "https://localhost:8080/",
     "height": 500
    },
    "id": "4xo0FAP2uy2F",
    "outputId": "e08bab2c-2196-49ec-e6d4-52d895ae9d35"
   },
   "outputs": [],
   "source": [
    "uploaded = files.upload()\n",
    "\n",
    "for fn in uploaded.keys():\n",
    "    path = fn\n",
    "    # Load gambar dan ubah ukurannya\n",
    "    img = image.load_img(path, target_size=(150, 150))\n",
    "    plt.imshow(img)\n",
    "\n",
    "    # Preprocessing gambar\n",
    "    x = image.img_to_array(img) / 255.0\n",
    "    x = np.expand_dims(x, axis=0)\n",
    "\n",
    "    # Prediksi kelas\n",
    "    classes = model.predict(x)  # or model.predict(x)\n",
    "    class_index = np.argmax(classes[0])\n",
    "\n",
    "    # Menampilkan prediksi\n",
    "    plt.title(f\"Predicted Label: {class_names[class_index]}\")\n",
    "    plt.axis(\"off\")\n",
    "    plt.show()"
   ]
  },
  {
   "cell_type": "code",
   "execution_count": null,
   "metadata": {
    "id": "uOa-bkm7u4pl"
   },
   "outputs": [],
   "source": [
    "# Save the model\n",
    "SAVED_MODEL = \"fruits_saved_model\"\n",
    "tf.saved_model.save(model, SAVED_MODEL)"
   ]
  },
  {
   "cell_type": "code",
   "execution_count": null,
   "metadata": {
    "colab": {
     "base_uri": "https://localhost:8080/"
    },
    "id": "lPepeQRJu6cx",
    "outputId": "6a70245f-f841-4d3c-9c5f-aad557e71091"
   },
   "outputs": [],
   "source": [
    "model.save('/content/drive/MyDrive/final.h5')"
   ]
  },
  {
   "cell_type": "code",
   "execution_count": null,
   "metadata": {
    "colab": {
     "base_uri": "https://localhost:8080/"
    },
    "id": "mTqmcQyeu8se",
    "outputId": "f5fcb3c3-246a-4d0a-8e4a-e125f4b0a164"
   },
   "outputs": [],
   "source": [
    "tflite_model = tf.keras.models.load_model(\"/content/drive/MyDrive/final.h5\")\n",
    "converter = tf.lite.TFLiteConverter.from_keras_model(tflite_model)\n",
    "converter.optimizations = [tf.lite.Optimize.DEFAULT]\n",
    "tflite_save = converter.convert()\n",
    "open(\"/content/drive/MyDrive/model.tflite\", \"wb\").write(tflite_save)"
   ]
  }
 ],
 "metadata": {
  "colab": {
   "provenance": []
  },
  "kernelspec": {
   "display_name": "Python 3",
   "language": "python",
   "name": "python3"
  },
  "language_info": {
   "codemirror_mode": {
    "name": "ipython",
    "version": 3
   },
   "file_extension": ".py",
   "mimetype": "text/x-python",
   "name": "python",
   "nbconvert_exporter": "python",
   "pygments_lexer": "ipython3",
   "version": "3.9.9"
  }
 },
 "nbformat": 4,
 "nbformat_minor": 4
}
